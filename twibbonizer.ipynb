{
 "cells": [
  {
   "cell_type": "markdown",
   "metadata": {},
   "source": [
    "# Twibbonizer"
   ]
  },
  {
   "cell_type": "code",
   "execution_count": 1,
   "metadata": {},
   "outputs": [],
   "source": [
    "from PIL import Image\n",
    "import os\n"
   ]
  },
  {
   "cell_type": "code",
   "execution_count": 2,
   "metadata": {},
   "outputs": [],
   "source": [
    "# Paths\n",
    "input_folders = [\"data/katalog_1\", \"data/katalog_2\"]\n",
    "output_base = \"output\"\n",
    "twibbon_path = \"data/twibbon_1.png\"\n",
    "watermark_path = \"data/watermark_1.png\"\n",
    "\n",
    "# Ensure output directory exists\n",
    "os.makedirs(output_base, exist_ok=True)"
   ]
  },
  {
   "cell_type": "code",
   "execution_count": 3,
   "metadata": {},
   "outputs": [],
   "source": [
    "# Load twibbon and watermark\n",
    "twibbon = Image.open(twibbon_path).convert(\"RGBA\")\n",
    "watermark = Image.open(watermark_path).convert(\"RGBA\")\n"
   ]
  },
  {
   "cell_type": "code",
   "execution_count": 4,
   "metadata": {},
   "outputs": [],
   "source": [
    "# Define the target size\n",
    "target_size = (1080, 1080)\n",
    "watermark_opacity = 0.7"
   ]
  },
  {
   "cell_type": "code",
   "execution_count": 5,
   "metadata": {},
   "outputs": [
    {
     "name": "stdout",
     "output_type": "stream",
     "text": [
      "Processed: produk_1.jpg -> output\\katalog_1\\produk_1.jpg\n",
      "Processed: produk_2.jpeg -> output\\katalog_1\\produk_2.jpg\n",
      "Processed: produk_3.jpg -> output\\katalog_1\\produk_3.jpg\n",
      "Processed: produk_4.jpg -> output\\katalog_1\\produk_4.jpg\n",
      "Processed: produk_5.jpg -> output\\katalog_1\\produk_5.jpg\n",
      "Processed: bunga_1.jpg -> output\\katalog_2\\bunga_1.jpg\n",
      "Processed: bunga_2.webp -> output\\katalog_2\\bunga_2.jpg\n",
      "Processed: bunga_3.jpg -> output\\katalog_2\\bunga_3.jpg\n",
      "Processed: bunga_4.jpg -> output\\katalog_2\\bunga_4.jpg\n",
      "Processed: bunga_5.jpg -> output\\katalog_2\\bunga_5.jpg\n",
      "✅ All images processed and saved in /output/katalog_x folders!\n"
     ]
    }
   ],
   "source": [
    "# Process each katalog folder\n",
    "for katalog in input_folders:\n",
    "    output_path = os.path.join(output_base, os.path.basename(katalog))  # Fix output path\n",
    "    os.makedirs(output_path, exist_ok=True)\n",
    "\n",
    "    # Process all images in katalog folder\n",
    "    for filename in os.listdir(katalog):\n",
    "        if filename.lower().endswith((\".jpg\", \".jpeg\", \".png\", \".webp\")):\n",
    "            img_path = os.path.join(katalog, filename)\n",
    "            img = Image.open(img_path).convert(\"RGBA\")\n",
    "\n",
    "            # Resize images to 1080x1080\n",
    "            img_resized = img.resize(target_size, Image.LANCZOS)\n",
    "            twibbon_resized = twibbon.resize(target_size, Image.LANCZOS)\n",
    "\n",
    "            # Resize watermark to 50% of image size\n",
    "            watermark_size = (target_size[0] // 2, target_size[1] // 2)\n",
    "            watermark_resized = watermark.resize(watermark_size, Image.LANCZOS)\n",
    "\n",
    "            # Adjust watermark opacity\n",
    "            watermark_transparent = Image.new(\"RGBA\", watermark_resized.size)\n",
    "            for x in range(watermark_resized.width):\n",
    "                for y in range(watermark_resized.height):\n",
    "                    r, g, b, a = watermark_resized.getpixel((x, y))\n",
    "                    watermark_transparent.putpixel((x, y), (r, g, b, int(a * watermark_opacity)))\n",
    "\n",
    "            # Create blank canvas with full-size transparent background\n",
    "            watermark_layer = Image.new(\"RGBA\", target_size, (0, 0, 0, 0))\n",
    "            \n",
    "            # Position watermark at center\n",
    "            position = ((target_size[0] - watermark_size[0]) // 2, (target_size[1] - watermark_size[1]) // 2)\n",
    "            watermark_layer.paste(watermark_transparent, position, mask=watermark_transparent)\n",
    "\n",
    "            # Overlay twibbon on product image\n",
    "            combined = Image.alpha_composite(img_resized, twibbon_resized)\n",
    "\n",
    "            # Overlay the watermark layer on top\n",
    "            final_image = Image.alpha_composite(combined, watermark_layer)\n",
    "\n",
    "            # Determine output format\n",
    "            output_format = \"PNG\" if filename.lower().endswith(\".png\") else \"JPEG\"\n",
    "            output_ext = \".png\" if output_format == \"PNG\" else \".jpg\"\n",
    "\n",
    "            # Save final image in /output/katalog_x\n",
    "            output_file = os.path.join(output_path, os.path.splitext(filename)[0] + output_ext)\n",
    "            final_image.convert(\"RGB\").save(output_file, format=output_format, quality=95)\n",
    "\n",
    "            print(f\"Processed: {filename} -> {output_file}\")\n",
    "\n",
    "print(\"✅ All images processed and saved in /output/katalog_x folders!\")"
   ]
  }
 ],
 "metadata": {
  "kernelspec": {
   "display_name": "venv",
   "language": "python",
   "name": "python3"
  },
  "language_info": {
   "codemirror_mode": {
    "name": "ipython",
    "version": 3
   },
   "file_extension": ".py",
   "mimetype": "text/x-python",
   "name": "python",
   "nbconvert_exporter": "python",
   "pygments_lexer": "ipython3",
   "version": "3.10.11"
  }
 },
 "nbformat": 4,
 "nbformat_minor": 2
}
